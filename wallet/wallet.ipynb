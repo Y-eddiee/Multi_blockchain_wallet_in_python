{
 "cells": [
  {
   "cell_type": "code",
   "execution_count": 1,
   "id": "11313fd0",
   "metadata": {},
   "outputs": [
    {
     "data": {
      "text/plain": [
       "True"
      ]
     },
     "execution_count": 1,
     "metadata": {},
     "output_type": "execute_result"
    }
   ],
   "source": [
    "# import libraries\n",
    "import subprocess\n",
    "import json\n",
    "import os\n",
    "\n",
    "from constants import *\n",
    "from dotenv import load_dotenv\n",
    "from pathlib import Path\n",
    "from pprint import pprint\n",
    "from web3 import Web3\n",
    "from eth_account import Account\n",
    "from bit import PrivateKeyTestnet\n",
    "from bit.network import NetworkAPI\n",
    "from web3.middleware import geth_poa_middleware\n",
    "from web3.gas_strategies.time_based import medium_gas_price_strategy\n",
    "\n",
    "load_dotenv()"
   ]
  },
  {
   "cell_type": "code",
   "execution_count": 2,
   "id": "f8b93f45",
   "metadata": {},
   "outputs": [
    {
     "name": "stdout",
     "output_type": "stream",
     "text": [
      "help effort false meadow walnut slice butter foil another feel minor wrap guide aunt tooth\n"
     ]
    }
   ],
   "source": [
    "# import mnemonic from env\n",
    "filepath=\".env\"\n",
    "p = subprocess.Popen(filepath, shell=True, stdout = subprocess.PIPE)\n",
    "\n",
    "#get mnemonic\n",
    "mnemonic = os.getenv('MNEMONIC')\n",
    "print(mnemonic)\n"
   ]
  },
  {
   "cell_type": "code",
   "execution_count": 3,
   "id": "4f353b5c",
   "metadata": {},
   "outputs": [],
   "source": [
    "# connect to local ETH/geth\n",
    "w3 = Web3(Web3.HTTPProvider('http://localhost:8545'))\n",
    "w3.middleware_onion.inject(geth_poa_middleware, layer=0)\n",
    "w3.eth.setGasPriceStrategy(medium_gas_price_strategy)"
   ]
  },
  {
   "cell_type": "code",
   "execution_count": 4,
   "id": "f2a5039b",
   "metadata": {},
   "outputs": [],
   "source": [
    "# Define function to derive wallet\n",
    "def derive_wallets(mnemonic, coin, numderive):\n",
    "    \"\"\"Use the subprocess library to call the php file script from Python\"\"\"\n",
    "    command = f'php ./hd-wallet-derive/hd-wallet-derive.php -g --mnemonic=\"{mnemonic}\" --numderive=\"{numderive}\" --coin=\"{coin}\" --cols=path,address,privkey,pubkey --format=json' \n",
    "    p = subprocess.Popen(command, stdout=subprocess.PIPE, shell=True)\n",
    "    (output, err) = p.communicate()\n",
    "    p_status = p.wait()\n",
    "    keys = json.loads(output)\n",
    "    return  keys"
   ]
  },
  {
   "cell_type": "code",
   "execution_count": 5,
   "id": "a9c52aee",
   "metadata": {},
   "outputs": [
    {
     "data": {
      "text/plain": [
       "[{'path': \"m/44'/0'/0'/0/0\",\n",
       "  'address': '1MMbfLCwJc2ge5wxjfgtJav3Fac7gVnyTm',\n",
       "  'privkey': 'L3bW4JZH2Vo4dyr8cmqH5K45jgVuqDz4gui4viJFhuhi2VXPrf7A',\n",
       "  'pubkey': '03861bc6f1eec9f6231149b5070ea0fe5b7774b921ac9a0fbe5e8a505be51e6bf4'},\n",
       " {'path': \"m/44'/0'/0'/0/1\",\n",
       "  'address': '1D2ydxj5YQsfYZkfyMYa3puUj77rW1h5a6',\n",
       "  'privkey': 'L4cyrgYztUaX4J9WzJKbr8ss5azwPF3RAhck31cQopEp7fcZMKHA',\n",
       "  'pubkey': '02cc54f8d4623cef5d62d1249e95ed888c07dcab593f046685a8ba758c2babe5f4'},\n",
       " {'path': \"m/44'/0'/0'/0/2\",\n",
       "  'address': '17sSyfGjxjhd9kJvKddXobeVADqkjpnz17',\n",
       "  'privkey': 'L4Ax23c48A1VtVMnSN1UiUVihNTousnzybF2GBmp1TrCaYRz2Dbb',\n",
       "  'pubkey': '0240b64712342715b09a3a7ec8c02f190c77a17662456ecf2f8847f38e7c2acf55'}]"
      ]
     },
     "execution_count": 5,
     "metadata": {},
     "output_type": "execute_result"
    }
   ],
   "source": [
    "# Test the function derive_wallets\n",
    "derive_wallets(mnemonic,'BTC', 3)"
   ]
  },
  {
   "cell_type": "code",
   "execution_count": 6,
   "id": "454590f3",
   "metadata": {},
   "outputs": [
    {
     "name": "stdout",
     "output_type": "stream",
     "text": [
      "{\n",
      "  \"btc\": [\n",
      "    {\n",
      "      \"address\": \"1MMbfLCwJc2ge5wxjfgtJav3Fac7gVnyTm\",\n",
      "      \"path\": \"m/44'/0'/0'/0/0\",\n",
      "      \"privkey\": \"L3bW4JZH2Vo4dyr8cmqH5K45jgVuqDz4gui4viJFhuhi2VXPrf7A\",\n",
      "      \"pubkey\": \"03861bc6f1eec9f6231149b5070ea0fe5b7774b921ac9a0fbe5e8a505be51e6bf4\"\n",
      "    },\n",
      "    {\n",
      "      \"address\": \"1D2ydxj5YQsfYZkfyMYa3puUj77rW1h5a6\",\n",
      "      \"path\": \"m/44'/0'/0'/0/1\",\n",
      "      \"privkey\": \"L4cyrgYztUaX4J9WzJKbr8ss5azwPF3RAhck31cQopEp7fcZMKHA\",\n",
      "      \"pubkey\": \"02cc54f8d4623cef5d62d1249e95ed888c07dcab593f046685a8ba758c2babe5f4\"\n",
      "    },\n",
      "    {\n",
      "      \"address\": \"17sSyfGjxjhd9kJvKddXobeVADqkjpnz17\",\n",
      "      \"path\": \"m/44'/0'/0'/0/2\",\n",
      "      \"privkey\": \"L4Ax23c48A1VtVMnSN1UiUVihNTousnzybF2GBmp1TrCaYRz2Dbb\",\n",
      "      \"pubkey\": \"0240b64712342715b09a3a7ec8c02f190c77a17662456ecf2f8847f38e7c2acf55\"\n",
      "    }\n",
      "  ],\n",
      "  \"btc-test\": [\n",
      "    {\n",
      "      \"address\": \"mrmvv1Z72hu1G1gXMwQBXBEJxge6K5qmEu\",\n",
      "      \"path\": \"m/44'/1'/0'/0/0\",\n",
      "      \"privkey\": \"cQTa9p3dxEv9vWHxQWjxK5TiEJehyKJjPd72L3gD8rZCNyHeCrF8\",\n",
      "      \"pubkey\": \"0313bc6517a62256113b051e2fbe0e7e92d62d5c3637ec48dbe232cf1fab36bffb\"\n",
      "    },\n",
      "    {\n",
      "      \"address\": \"mqnSKqXMMWWY3jMLgTKhHgQQqXAp3f1Suc\",\n",
      "      \"path\": \"m/44'/1'/0'/0/1\",\n",
      "      \"privkey\": \"cNfb6d2DatRH2CjgHEEs5S7bnfGNzL5AL5vQvLXbUBsPHScuJvsV\",\n",
      "      \"pubkey\": \"03a55915550b086efffd3a0ca30ceac497478bb79e67a7d420fef582d8c35112fd\"\n",
      "    },\n",
      "    {\n",
      "      \"address\": \"mqndTjh9g4uKo8WSpsHP8XYKZpjztpAo29\",\n",
      "      \"path\": \"m/44'/1'/0'/0/2\",\n",
      "      \"privkey\": \"cQagZ7RwvLfqMftB5snta1ZQnGXC3nQ7XV1J6Ag1zPNHeaECZ9kC\",\n",
      "      \"pubkey\": \"037f6ba2395c7919478b0ba3af170f06d2f96ecadf951f228b334c5d28289ebc8f\"\n",
      "    }\n",
      "  ],\n",
      "  \"eth\": [\n",
      "    {\n",
      "      \"address\": \"0x1bC43C598983275681882D6a8C679B4946c27ac9\",\n",
      "      \"path\": \"m/44'/60'/0'/0/0\",\n",
      "      \"privkey\": \"0x414ef66e83cf52ed7afced231fd1f02eb3d3c2194e566b769458f7b726aa0826\",\n",
      "      \"pubkey\": \"03ce6eff60c2cad7100f850b2661eae948612ab43cf4f06103463b23d199abb6e8\"\n",
      "    },\n",
      "    {\n",
      "      \"address\": \"0x808F9394028fef6Ec407Ab6b49d3633Bc9e2DEC0\",\n",
      "      \"path\": \"m/44'/60'/0'/0/1\",\n",
      "      \"privkey\": \"0x717af8e8db3231e7ec52196bd44970a9aff4a2866a4a3f80d29087ce8b6ba11d\",\n",
      "      \"pubkey\": \"02e9f31ab0ce66646f77f322dcf742e4b93a37b1cb92d068c44b35142684a697a5\"\n",
      "    },\n",
      "    {\n",
      "      \"address\": \"0xc07654A9843cf2986A3bB560F696E256818CB798\",\n",
      "      \"path\": \"m/44'/60'/0'/0/2\",\n",
      "      \"privkey\": \"0xb0931e200e719805b20b61e00dd4ffa02deb4d84328e483b0834aa91aae3f821\",\n",
      "      \"pubkey\": \"02c870846a98260cc4627251c5e7d1f1ad3f088ed6f364c009cbb82c74af2dd8b9\"\n",
      "    }\n",
      "  ]\n",
      "}\n"
     ]
    }
   ],
   "source": [
    "#Setting dictionary of coins to be used in the derive_wallets.\n",
    "keys = {\"btc\", \"btc-test\", \"eth\"}\n",
    "numderive = 3\n",
    "\n",
    "coins = {}\n",
    "for coin in keys:\n",
    "    coins[coin]= derive_wallets(mnemonic, coin, numderive=3)\n",
    "\n",
    "print(json.dumps(coins, indent=2, sort_keys=True))"
   ]
  },
  {
   "cell_type": "code",
   "execution_count": 7,
   "id": "f9dc86c0",
   "metadata": {},
   "outputs": [
    {
     "name": "stdout",
     "output_type": "stream",
     "text": [
      "\"0x414ef66e83cf52ed7afced231fd1f02eb3d3c2194e566b769458f7b726aa0826\"\n",
      "\"cQTa9p3dxEv9vWHxQWjxK5TiEJehyKJjPd72L3gD8rZCNyHeCrF8\"\n"
     ]
    }
   ],
   "source": [
    "# select child accounts (and thus, private keys) by accessing items in the `coins` dictionary\n",
    "\n",
    "eth_PrivateKey = coins[\"eth\"][0]['privkey']\n",
    "btc_PrivateKey = coins['btc-test'][0]['privkey']\n",
    "\n",
    "print(json.dumps(eth_PrivateKey))\n",
    "print(json.dumps(btc_PrivateKey))"
   ]
  },
  {
   "cell_type": "code",
   "execution_count": 8,
   "id": "6c41331d",
   "metadata": {},
   "outputs": [],
   "source": [
    "# Create a function called `priv_key_to_account` that converts privkey strings to account objects.\n",
    "\n",
    "def priv_key_to_account(coin, priv_key):\n",
    "    if coin == ETH:\n",
    "        return Account.privateKeyToAccount(priv_key)\n",
    "    elif coin == BTCTEST:\n",
    "        return PrivateKeyTestnet(priv_key)"
   ]
  },
  {
   "cell_type": "code",
   "execution_count": 9,
   "id": "fe8d7f49",
   "metadata": {},
   "outputs": [],
   "source": [
    "# Create a function called `create_tx` that creates an unsigned transaction appropriate metadata.\n",
    "\n",
    "def create_tx(coin, account, to, amount):\n",
    "    if coin == ETH: \n",
    "        gasEstimate = w3.eth.estimateGas(\n",
    "            {\"from\":account.address, \"to\":to, \"value\": amount}\n",
    "        )\n",
    "        return { \n",
    "            \"from\": account.address,\n",
    "            \"to\": to,\n",
    "            \"value\": amount,\n",
    "            \"gasPrice\": w3.eth.gasPrice,\n",
    "            \"gas\": gasEstimate,\n",
    "            \"nonce\": w3.eth.getTransactionCount(account.address),\n",
    "            #\"chain_ID\": w3.eth.chain_id\n",
    "        }\n",
    "    \n",
    "    elif coin == BTCTEST:\n",
    "        return PrivateKeyTestnet.prepare_transaction(account.address, [(to, amount, BTC)])\n"
   ]
  },
  {
   "cell_type": "code",
   "execution_count": 10,
   "id": "3e882462",
   "metadata": {},
   "outputs": [],
   "source": [
    "# call `create_tx`, sign the transaction, then send it to the designated network    \n",
    "\n",
    "def send_tx(coin, account, to, amount):\n",
    "    if coin == ETH:\n",
    "        raw_tx = create_tx(coin, account, to, amount)\n",
    "        signed_tx = account.signTransaction(raw_tx)\n",
    "        result = w3.eth.sendRawTransaction(signed_tx.rawTransaction)\n",
    "        print(result.hex())\n",
    "        return result.hex()\n",
    "\n",
    "    elif coin == BTCTEST:\n",
    "        raw_tx = create_tx(coin, account, to, amount)\n",
    "        signed_tx = account.sign_transaction(raw_tx)\n",
    "        return NetworkAPI.broadcast_tx_testnet(signed_tx)    \n",
    "    "
   ]
  },
  {
   "cell_type": "code",
   "execution_count": 11,
   "id": "13038b33",
   "metadata": {},
   "outputs": [],
   "source": [
    "# Send BTCTEST transaction using below code\n",
    "btc_key = coins[BTCTEST][0]['privkey']\n",
    "btc_address = coins[BTCTEST][1]['address']\n",
    "send_tx(BTCTEST, priv_key_to_account(BTCTEST, btc_key),btc_address, 0.0000001)"
   ]
  },
  {
   "cell_type": "code",
   "execution_count": 13,
   "id": "70322e3b",
   "metadata": {},
   "outputs": [
    {
     "name": "stdout",
     "output_type": "stream",
     "text": [
      "0x45070fac3ed43b2f3f1d7195e30e4dffc775d72b40d2690adf178198eb8a6450\n"
     ]
    },
    {
     "data": {
      "text/plain": [
       "'0x45070fac3ed43b2f3f1d7195e30e4dffc775d72b40d2690adf178198eb8a6450'"
      ]
     },
     "execution_count": 13,
     "metadata": {},
     "output_type": "execute_result"
    }
   ],
   "source": [
    "# Send ETH transaction usinb below code\n",
    "eth_key = coins[ETH][0]['privkey']\n",
    "eth_address = coins[ETH][1]['address']\n",
    "send_tx(ETH, priv_key_to_account(ETH, eth_key),eth_address, 1)\n"
   ]
  },
  {
   "cell_type": "code",
   "execution_count": null,
   "id": "86905463",
   "metadata": {},
   "outputs": [],
   "source": []
  }
 ],
 "metadata": {
  "kernelspec": {
   "display_name": "Python [conda env:ethereum]",
   "language": "python",
   "name": "conda-env-ethereum-py"
  },
  "language_info": {
   "codemirror_mode": {
    "name": "ipython",
    "version": 3
   },
   "file_extension": ".py",
   "mimetype": "text/x-python",
   "name": "python",
   "nbconvert_exporter": "python",
   "pygments_lexer": "ipython3",
   "version": "3.7.10"
  }
 },
 "nbformat": 4,
 "nbformat_minor": 5
}
